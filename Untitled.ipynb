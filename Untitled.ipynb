{
 "cells": [
  {
   "cell_type": "code",
   "execution_count": 1,
   "id": "3e7aa1c0-6298-40ed-a814-e0f3707167a3",
   "metadata": {},
   "outputs": [
    {
     "name": "stdout",
     "output_type": "stream",
     "text": [
      "Requirement already satisfied: mnemonic in /Users/mrandy/opt/anaconda3/lib/python3.8/site-packages (0.20)\n"
     ]
    }
   ],
   "source": [
    "!pip install mnemonic"
   ]
  },
  {
   "cell_type": "code",
   "execution_count": 2,
   "id": "e5110a0b-d535-49f5-984b-b2072af62f19",
   "metadata": {},
   "outputs": [
    {
     "name": "stdout",
     "output_type": "stream",
     "text": [
      "Collecting bip44\n",
      "  Using cached bip44-0.1.1-py3-none-any.whl (4.9 kB)\n",
      "Requirement already satisfied: mnemonic<0.21,>=0.19 in /Users/mrandy/opt/anaconda3/lib/python3.8/site-packages (from bip44) (0.20)\n",
      "Collecting bip32<2.2.0,>=0.0.8\n",
      "  Using cached bip32-2.1-py3-none-any.whl (8.4 kB)\n",
      "Collecting pysha3<2.0.0,>=1.0.2\n",
      "  Using cached pysha3-1.0.2.tar.gz (829 kB)\n",
      "Requirement already satisfied: coincurve~=15.0 in /Users/mrandy/opt/anaconda3/lib/python3.8/site-packages (from bip32<2.2.0,>=0.0.8->bip44) (15.0.1)\n",
      "Requirement already satisfied: base58~=2.0 in /Users/mrandy/opt/anaconda3/lib/python3.8/site-packages (from bip32<2.2.0,>=0.0.8->bip44) (2.1.1)\n",
      "Requirement already satisfied: asn1crypto in /Users/mrandy/opt/anaconda3/lib/python3.8/site-packages (from coincurve~=15.0->bip32<2.2.0,>=0.0.8->bip44) (1.4.0)\n",
      "Requirement already satisfied: cffi>=1.3.0 in /Users/mrandy/opt/anaconda3/lib/python3.8/site-packages (from coincurve~=15.0->bip32<2.2.0,>=0.0.8->bip44) (1.15.0)\n",
      "Requirement already satisfied: pycparser in /Users/mrandy/opt/anaconda3/lib/python3.8/site-packages (from cffi>=1.3.0->coincurve~=15.0->bip32<2.2.0,>=0.0.8->bip44) (2.21)\n",
      "Building wheels for collected packages: pysha3\n",
      "  Building wheel for pysha3 (setup.py) ... \u001b[?25lerror\n",
      "\u001b[31m  ERROR: Command errored out with exit status 1:\n",
      "   command: /Users/mrandy/opt/anaconda3/bin/python -u -c 'import io, os, sys, setuptools, tokenize; sys.argv[0] = '\"'\"'/private/var/folders/kb/vz0kdxmj6mdb7lm5z7rgcshc0000gn/T/pip-install-jf_d0qvp/pysha3_c34a43a125c24dc68b889eae6d5d6fd3/setup.py'\"'\"'; __file__='\"'\"'/private/var/folders/kb/vz0kdxmj6mdb7lm5z7rgcshc0000gn/T/pip-install-jf_d0qvp/pysha3_c34a43a125c24dc68b889eae6d5d6fd3/setup.py'\"'\"';f = getattr(tokenize, '\"'\"'open'\"'\"', open)(__file__) if os.path.exists(__file__) else io.StringIO('\"'\"'from setuptools import setup; setup()'\"'\"');code = f.read().replace('\"'\"'\\r\\n'\"'\"', '\"'\"'\\n'\"'\"');f.close();exec(compile(code, __file__, '\"'\"'exec'\"'\"'))' bdist_wheel -d /private/var/folders/kb/vz0kdxmj6mdb7lm5z7rgcshc0000gn/T/pip-wheel-0fcf8_lu\n",
      "       cwd: /private/var/folders/kb/vz0kdxmj6mdb7lm5z7rgcshc0000gn/T/pip-install-jf_d0qvp/pysha3_c34a43a125c24dc68b889eae6d5d6fd3/\n",
      "  Complete output (20 lines):\n",
      "  running bdist_wheel\n",
      "  running build\n",
      "  running build_py\n",
      "  creating build\n",
      "  creating build/lib.macosx-10.9-x86_64-3.8\n",
      "  copying sha3.py -> build/lib.macosx-10.9-x86_64-3.8\n",
      "  running build_ext\n",
      "  building '_pysha3' extension\n",
      "  creating build/temp.macosx-10.9-x86_64-3.8\n",
      "  creating build/temp.macosx-10.9-x86_64-3.8/Modules\n",
      "  creating build/temp.macosx-10.9-x86_64-3.8/Modules/_sha3\n",
      "  x86_64-apple-darwin13.4.0-clang -fno-strict-aliasing -Wsign-compare -Wunreachable-code -DNDEBUG -fwrapv -O3 -Wall -Wstrict-prototypes -march=core2 -mtune=haswell -mssse3 -ftree-vectorize -fPIC -fPIE -fstack-protector-strong -O3 -pipe -fdebug-prefix-map=${SRC_DIR}=/usr/local/src/conda/${PKG_NAME}-${PKG_VERSION} -fdebug-prefix-map=/Users/mrandy/opt/anaconda3=/usr/local/src/conda-prefix -flto -Wl,-export_dynamic -march=core2 -mtune=haswell -mssse3 -ftree-vectorize -fPIC -fPIE -fstack-protector-strong -O3 -march=core2 -mtune=haswell -mssse3 -ftree-vectorize -fPIC -fPIE -fstack-protector-strong -O2 -pipe -isystem /Users/mrandy/opt/anaconda3/include -D_FORTIFY_SOURCE=2 -mmacosx-version-min=10.9 -isystem /Users/mrandy/opt/anaconda3/include -DPY_WITH_KECCAK=1 -I/Users/mrandy/opt/anaconda3/include/python3.8 -c Modules/_sha3/sha3module.c -o build/temp.macosx-10.9-x86_64-3.8/Modules/_sha3/sha3module.o\n",
      "  clang-9: warning: -Wl,-export_dynamic: 'linker' input unused [-Wunused-command-line-argument]\n",
      "  x86_64-apple-darwin13.4.0-clang -fno-strict-aliasing -Wsign-compare -Wunreachable-code -DNDEBUG -fwrapv -O3 -Wall -Wstrict-prototypes -march=core2 -mtune=haswell -mssse3 -ftree-vectorize -fPIC -fPIE -fstack-protector-strong -O3 -pipe -fdebug-prefix-map=${SRC_DIR}=/usr/local/src/conda/${PKG_NAME}-${PKG_VERSION} -fdebug-prefix-map=/Users/mrandy/opt/anaconda3=/usr/local/src/conda-prefix -flto -Wl,-export_dynamic -march=core2 -mtune=haswell -mssse3 -ftree-vectorize -fPIC -fPIE -fstack-protector-strong -O3 -march=core2 -mtune=haswell -mssse3 -ftree-vectorize -fPIC -fPIE -fstack-protector-strong -O2 -pipe -isystem /Users/mrandy/opt/anaconda3/include -D_FORTIFY_SOURCE=2 -mmacosx-version-min=10.9 -isystem /Users/mrandy/opt/anaconda3/include -DPY_WITH_KECCAK=1 -I/Users/mrandy/opt/anaconda3/include/python3.8 -c Modules/pymemsets.c -o build/temp.macosx-10.9-x86_64-3.8/Modules/pymemsets.o\n",
      "  clang-9: warning: -Wl,-export_dynamic: 'linker' input unused [-Wunused-command-line-argument]\n",
      "  x86_64-apple-darwin13.4.0-clang -bundle -undefined dynamic_lookup -Wl,-pie -Wl,-headerpad_max_install_names -Wl,-dead_strip_dylibs -Wl,-rpath,/Users/mrandy/opt/anaconda3/lib -L/Users/mrandy/opt/anaconda3/lib -flto -Wl,-export_dynamic -Wl,-pie -Wl,-headerpad_max_install_names -Wl,-dead_strip_dylibs -Wl,-rpath,/Users/mrandy/opt/anaconda3/lib -L/Users/mrandy/opt/anaconda3/lib -Wl,-pie -Wl,-headerpad_max_install_names -Wl,-dead_strip_dylibs -Wl,-rpath,/Users/mrandy/opt/anaconda3/lib -L/Users/mrandy/opt/anaconda3/lib -march=core2 -mtune=haswell -mssse3 -ftree-vectorize -fPIC -fPIE -fstack-protector-strong -O2 -pipe -isystem /Users/mrandy/opt/anaconda3/include -D_FORTIFY_SOURCE=2 -mmacosx-version-min=10.9 -isystem /Users/mrandy/opt/anaconda3/include build/temp.macosx-10.9-x86_64-3.8/Modules/_sha3/sha3module.o build/temp.macosx-10.9-x86_64-3.8/Modules/pymemsets.o -o build/lib.macosx-10.9-x86_64-3.8/_pysha3.cpython-38-darwin.so\n",
      "  ld: warning: -pie being ignored. It is only used when linking a main executable\n",
      "  ld: unsupported tapi file type '!tapi-tbd' in YAML file '/Library/Developer/CommandLineTools/SDKs/MacOSX.sdk/usr/lib/libSystem.tbd' for architecture x86_64\n",
      "  clang-9: error: linker command failed with exit code 1 (use -v to see invocation)\n",
      "  error: command '/Users/mrandy/opt/anaconda3/bin/x86_64-apple-darwin13.4.0-clang' failed with exit code 1\n",
      "  ----------------------------------------\u001b[0m\n",
      "\u001b[31m  ERROR: Failed building wheel for pysha3\u001b[0m\n",
      "\u001b[?25h  Running setup.py clean for pysha3\n",
      "Failed to build pysha3\n",
      "Installing collected packages: pysha3, bip32, bip44\n",
      "    Running setup.py install for pysha3 ... \u001b[?25lerror\n",
      "\u001b[31m    ERROR: Command errored out with exit status 1:\n",
      "     command: /Users/mrandy/opt/anaconda3/bin/python -u -c 'import io, os, sys, setuptools, tokenize; sys.argv[0] = '\"'\"'/private/var/folders/kb/vz0kdxmj6mdb7lm5z7rgcshc0000gn/T/pip-install-jf_d0qvp/pysha3_c34a43a125c24dc68b889eae6d5d6fd3/setup.py'\"'\"'; __file__='\"'\"'/private/var/folders/kb/vz0kdxmj6mdb7lm5z7rgcshc0000gn/T/pip-install-jf_d0qvp/pysha3_c34a43a125c24dc68b889eae6d5d6fd3/setup.py'\"'\"';f = getattr(tokenize, '\"'\"'open'\"'\"', open)(__file__) if os.path.exists(__file__) else io.StringIO('\"'\"'from setuptools import setup; setup()'\"'\"');code = f.read().replace('\"'\"'\\r\\n'\"'\"', '\"'\"'\\n'\"'\"');f.close();exec(compile(code, __file__, '\"'\"'exec'\"'\"'))' install --record /private/var/folders/kb/vz0kdxmj6mdb7lm5z7rgcshc0000gn/T/pip-record-qgq2y19p/install-record.txt --single-version-externally-managed --compile --install-headers /Users/mrandy/opt/anaconda3/include/python3.8/pysha3\n",
      "         cwd: /private/var/folders/kb/vz0kdxmj6mdb7lm5z7rgcshc0000gn/T/pip-install-jf_d0qvp/pysha3_c34a43a125c24dc68b889eae6d5d6fd3/\n",
      "    Complete output (22 lines):\n",
      "    running install\n",
      "    /Users/mrandy/opt/anaconda3/lib/python3.8/site-packages/setuptools/command/install.py:34: SetuptoolsDeprecationWarning: setup.py install is deprecated. Use build and pip and other standards-based tools.\n",
      "      warnings.warn(\n",
      "    running build\n",
      "    running build_py\n",
      "    creating build\n",
      "    creating build/lib.macosx-10.9-x86_64-3.8\n",
      "    copying sha3.py -> build/lib.macosx-10.9-x86_64-3.8\n",
      "    running build_ext\n",
      "    building '_pysha3' extension\n",
      "    creating build/temp.macosx-10.9-x86_64-3.8\n",
      "    creating build/temp.macosx-10.9-x86_64-3.8/Modules\n",
      "    creating build/temp.macosx-10.9-x86_64-3.8/Modules/_sha3\n",
      "    x86_64-apple-darwin13.4.0-clang -fno-strict-aliasing -Wsign-compare -Wunreachable-code -DNDEBUG -fwrapv -O3 -Wall -Wstrict-prototypes -march=core2 -mtune=haswell -mssse3 -ftree-vectorize -fPIC -fPIE -fstack-protector-strong -O3 -pipe -fdebug-prefix-map=${SRC_DIR}=/usr/local/src/conda/${PKG_NAME}-${PKG_VERSION} -fdebug-prefix-map=/Users/mrandy/opt/anaconda3=/usr/local/src/conda-prefix -flto -Wl,-export_dynamic -march=core2 -mtune=haswell -mssse3 -ftree-vectorize -fPIC -fPIE -fstack-protector-strong -O3 -march=core2 -mtune=haswell -mssse3 -ftree-vectorize -fPIC -fPIE -fstack-protector-strong -O2 -pipe -isystem /Users/mrandy/opt/anaconda3/include -D_FORTIFY_SOURCE=2 -mmacosx-version-min=10.9 -isystem /Users/mrandy/opt/anaconda3/include -DPY_WITH_KECCAK=1 -I/Users/mrandy/opt/anaconda3/include/python3.8 -c Modules/_sha3/sha3module.c -o build/temp.macosx-10.9-x86_64-3.8/Modules/_sha3/sha3module.o\n",
      "    clang-9: warning: -Wl,-export_dynamic: 'linker' input unused [-Wunused-command-line-argument]\n",
      "    x86_64-apple-darwin13.4.0-clang -fno-strict-aliasing -Wsign-compare -Wunreachable-code -DNDEBUG -fwrapv -O3 -Wall -Wstrict-prototypes -march=core2 -mtune=haswell -mssse3 -ftree-vectorize -fPIC -fPIE -fstack-protector-strong -O3 -pipe -fdebug-prefix-map=${SRC_DIR}=/usr/local/src/conda/${PKG_NAME}-${PKG_VERSION} -fdebug-prefix-map=/Users/mrandy/opt/anaconda3=/usr/local/src/conda-prefix -flto -Wl,-export_dynamic -march=core2 -mtune=haswell -mssse3 -ftree-vectorize -fPIC -fPIE -fstack-protector-strong -O3 -march=core2 -mtune=haswell -mssse3 -ftree-vectorize -fPIC -fPIE -fstack-protector-strong -O2 -pipe -isystem /Users/mrandy/opt/anaconda3/include -D_FORTIFY_SOURCE=2 -mmacosx-version-min=10.9 -isystem /Users/mrandy/opt/anaconda3/include -DPY_WITH_KECCAK=1 -I/Users/mrandy/opt/anaconda3/include/python3.8 -c Modules/pymemsets.c -o build/temp.macosx-10.9-x86_64-3.8/Modules/pymemsets.o\n",
      "    clang-9: warning: -Wl,-export_dynamic: 'linker' input unused [-Wunused-command-line-argument]\n",
      "    x86_64-apple-darwin13.4.0-clang -bundle -undefined dynamic_lookup -Wl,-pie -Wl,-headerpad_max_install_names -Wl,-dead_strip_dylibs -Wl,-rpath,/Users/mrandy/opt/anaconda3/lib -L/Users/mrandy/opt/anaconda3/lib -flto -Wl,-export_dynamic -Wl,-pie -Wl,-headerpad_max_install_names -Wl,-dead_strip_dylibs -Wl,-rpath,/Users/mrandy/opt/anaconda3/lib -L/Users/mrandy/opt/anaconda3/lib -Wl,-pie -Wl,-headerpad_max_install_names -Wl,-dead_strip_dylibs -Wl,-rpath,/Users/mrandy/opt/anaconda3/lib -L/Users/mrandy/opt/anaconda3/lib -march=core2 -mtune=haswell -mssse3 -ftree-vectorize -fPIC -fPIE -fstack-protector-strong -O2 -pipe -isystem /Users/mrandy/opt/anaconda3/include -D_FORTIFY_SOURCE=2 -mmacosx-version-min=10.9 -isystem /Users/mrandy/opt/anaconda3/include build/temp.macosx-10.9-x86_64-3.8/Modules/_sha3/sha3module.o build/temp.macosx-10.9-x86_64-3.8/Modules/pymemsets.o -o build/lib.macosx-10.9-x86_64-3.8/_pysha3.cpython-38-darwin.so\n",
      "    ld: warning: -pie being ignored. It is only used when linking a main executable\n",
      "    ld: unsupported tapi file type '!tapi-tbd' in YAML file '/Library/Developer/CommandLineTools/SDKs/MacOSX.sdk/usr/lib/libSystem.tbd' for architecture x86_64\n",
      "    clang-9: error: linker command failed with exit code 1 (use -v to see invocation)\n",
      "    error: command '/Users/mrandy/opt/anaconda3/bin/x86_64-apple-darwin13.4.0-clang' failed with exit code 1\n",
      "    ----------------------------------------\u001b[0m\n",
      "\u001b[31mERROR: Command errored out with exit status 1: /Users/mrandy/opt/anaconda3/bin/python -u -c 'import io, os, sys, setuptools, tokenize; sys.argv[0] = '\"'\"'/private/var/folders/kb/vz0kdxmj6mdb7lm5z7rgcshc0000gn/T/pip-install-jf_d0qvp/pysha3_c34a43a125c24dc68b889eae6d5d6fd3/setup.py'\"'\"'; __file__='\"'\"'/private/var/folders/kb/vz0kdxmj6mdb7lm5z7rgcshc0000gn/T/pip-install-jf_d0qvp/pysha3_c34a43a125c24dc68b889eae6d5d6fd3/setup.py'\"'\"';f = getattr(tokenize, '\"'\"'open'\"'\"', open)(__file__) if os.path.exists(__file__) else io.StringIO('\"'\"'from setuptools import setup; setup()'\"'\"');code = f.read().replace('\"'\"'\\r\\n'\"'\"', '\"'\"'\\n'\"'\"');f.close();exec(compile(code, __file__, '\"'\"'exec'\"'\"'))' install --record /private/var/folders/kb/vz0kdxmj6mdb7lm5z7rgcshc0000gn/T/pip-record-qgq2y19p/install-record.txt --single-version-externally-managed --compile --install-headers /Users/mrandy/opt/anaconda3/include/python3.8/pysha3 Check the logs for full command output.\u001b[0m\n",
      "\u001b[?25h"
     ]
    }
   ],
   "source": [
    "!pip install bip44"
   ]
  },
  {
   "cell_type": "code",
   "execution_count": 3,
   "id": "ea682374-7a97-4930-8cf0-9e7008b9c7e6",
   "metadata": {},
   "outputs": [
    {
     "name": "stdout",
     "output_type": "stream",
     "text": [
      "Requirement already satisfied: python-dotenv in /Users/mrandy/opt/anaconda3/lib/python3.8/site-packages (0.19.2)\n"
     ]
    }
   ],
   "source": [
    "!pip install python-dotenv"
   ]
  },
  {
   "cell_type": "code",
   "execution_count": 4,
   "id": "1bf1837f-ba9f-4af7-9756-c0bbfde68375",
   "metadata": {},
   "outputs": [
    {
     "ename": "SyntaxError",
     "evalue": "invalid syntax (932148943.py, line 4)",
     "output_type": "error",
     "traceback": [
      "\u001b[0;36m  Input \u001b[0;32mIn [4]\u001b[0;36m\u001b[0m\n\u001b[0;31m    from mne\u001b[0m\n\u001b[0m            ^\u001b[0m\n\u001b[0;31mSyntaxError\u001b[0m\u001b[0;31m:\u001b[0m invalid syntax\n"
     ]
    }
   ],
   "source": [
    "import os\n",
    "from dotenv import load_dotenv\n",
    "load_dotenv()\n",
    "from mne"
   ]
  },
  {
   "cell_type": "code",
   "execution_count": null,
   "id": "3367b5da-cc1f-483c-898f-4bbe18041151",
   "metadata": {},
   "outputs": [],
   "source": []
  }
 ],
 "metadata": {
  "kernelspec": {
   "display_name": "Python 3 (ipykernel)",
   "language": "python",
   "name": "python3"
  },
  "language_info": {
   "codemirror_mode": {
    "name": "ipython",
    "version": 3
   },
   "file_extension": ".py",
   "mimetype": "text/x-python",
   "name": "python",
   "nbconvert_exporter": "python",
   "pygments_lexer": "ipython3",
   "version": "3.8.8"
  }
 },
 "nbformat": 4,
 "nbformat_minor": 5
}
